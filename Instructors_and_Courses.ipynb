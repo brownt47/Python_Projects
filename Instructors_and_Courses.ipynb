{
  "nbformat": 4,
  "nbformat_minor": 0,
  "metadata": {
    "kernelspec": {
      "display_name": "Python 3",
      "language": "python",
      "name": "python3"
    },
    "language_info": {
      "codemirror_mode": {
        "name": "ipython",
        "version": 3
      },
      "file_extension": ".py",
      "mimetype": "text/x-python",
      "name": "python",
      "nbconvert_exporter": "python",
      "pygments_lexer": "ipython3",
      "version": "3.7.4"
    },
    "colab": {
      "name": "Excel Export of List of Instructors Teaching Courses.ipynb",
      "provenance": [],
      "collapsed_sections": [],
      "include_colab_link": true
    }
  },
  "cells": [
    {
      "cell_type": "markdown",
      "metadata": {
        "id": "view-in-github",
        "colab_type": "text"
      },
      "source": [
        "<a href=\"https://colab.research.google.com/github/brownt47/Python_Projects/blob/main/Instructors_and_Courses.ipynb\" target=\"_parent\"><img src=\"https://colab.research.google.com/assets/colab-badge.svg\" alt=\"Open In Colab\"/></a>"
      ]
    },
    {
      "cell_type": "code",
      "metadata": {
        "id": "4anRCyJcx8so"
      },
      "source": [
        "import pandas as pd\n",
        "import numpy as np\n",
        "import os\n",
        "from datetime import datetime\n",
        "from pytz import timezone"
      ],
      "execution_count": null,
      "outputs": []
    },
    {
      "cell_type": "markdown",
      "metadata": {
        "id": "M3HLyfIN248U"
      },
      "source": [
        "## IMPORT THE COURSE SECTION DATA"
      ]
    },
    {
      "cell_type": "code",
      "metadata": {
        "id": "rupSq4BW248a"
      },
      "source": [
        "loc = \"C:\\\\Users\\\\User\\\\OneDrive - Georgia State University\\\\!!!Online Math Department\\\\Schedules for Online\\\\Fall 2021\""
      ],
      "execution_count": null,
      "outputs": []
    },
    {
      "cell_type": "code",
      "metadata": {
        "id": "v7jKWQhx248b"
      },
      "source": [
        "filename = 'CV_Class_Schedule_By_Department_S200106-2020-07-16_20210901_081215.csv'"
      ],
      "execution_count": null,
      "outputs": []
    },
    {
      "cell_type": "code",
      "metadata": {
        "id": "RlEe_0Jh248c"
      },
      "source": [
        "loc = loc + \"\\\\\" + filename"
      ],
      "execution_count": null,
      "outputs": []
    },
    {
      "cell_type": "code",
      "metadata": {
        "scrolled": true,
        "colab": {
          "base_uri": "https://localhost:8080/"
        },
        "id": "Wl8vQIWb248d",
        "outputId": "8e663bf3-c2a6-440d-fb04-9d32b845551a"
      },
      "source": [
        "print(loc)"
      ],
      "execution_count": null,
      "outputs": [
        {
          "output_type": "stream",
          "name": "stdout",
          "text": [
            "C:\\Users\\User\\OneDrive - Georgia State University\\!!!Online Math Department\\Schedules for Online\\Fall 2021\\CV_Class_Schedule_By_Department_S200106-2020-07-16_20210901_081215.csv\n"
          ]
        }
      ]
    },
    {
      "cell_type": "code",
      "metadata": {
        "id": "vmBsdvMK248g"
      },
      "source": [
        "stats = pd.read_csv(filename)"
      ],
      "execution_count": null,
      "outputs": []
    },
    {
      "cell_type": "markdown",
      "metadata": {
        "id": "4SXaSp3x248i"
      },
      "source": [
        "# Change Column Names and remove unwanted columns"
      ]
    },
    {
      "cell_type": "code",
      "metadata": {
        "id": "aTPb44Br248k"
      },
      "source": [
        "stats.columns = [x.lower() for x in stats.columns]\n",
        "stats.columns = ['term', 'coll', 'crn', 'dept', 'sapr', 'xlst', 'ptrm', 'subj_crsnumb',\n",
        "       'crse_title', 'seq_numb', 'schd', 'insm_code', 'crse_delvry', 'campus',\n",
        "       'sess', 'credit_hr_low', 'credit_hr_high', 'credit_hrs', 'sest', 'ses#',\n",
        "       'days', 'start_time', 'end_time', 'schd.1', 'loc', 'instructor',\n",
        "       'spriden_id', 'fcst_code', 'enroll', 'max_enrl', 'xlst_enrl',\n",
        "       'xlst_max_enrl', 'crse_status', 'comments', 'fees', 'detail code',\n",
        "       'sec', 'ssbsect_voice_avail']"
      ],
      "execution_count": null,
      "outputs": []
    },
    {
      "cell_type": "markdown",
      "metadata": {
        "id": "ZUjwnU90ze2C"
      },
      "source": [
        "### List of Campuses"
      ]
    },
    {
      "cell_type": "code",
      "metadata": {
        "id": "ikQ-ugPnzeqn"
      },
      "source": [
        "campuses = ['PA','PF','PS','PC','PE', 'PN']\n",
        "campuses_dict = {'PA':\"Alpharetta\",'PF':'Online','PS':'Decatur','PC':'Clarkston','PE':'Newton', 'PN':'Dunwoody'}"
      ],
      "execution_count": null,
      "outputs": []
    },
    {
      "cell_type": "code",
      "metadata": {
        "colab": {
          "base_uri": "https://localhost:8080/",
          "height": 34
        },
        "id": "Yqn3o4CgMBZ4",
        "outputId": "7761a30e-7e91-4877-b8db-e650972cdfb8"
      },
      "source": [
        "campuses_dict['PA']"
      ],
      "execution_count": null,
      "outputs": [
        {
          "output_type": "execute_result",
          "data": {
            "application/vnd.google.colaboratory.intrinsic+json": {
              "type": "string"
            },
            "text/plain": [
              "'Alpharetta'"
            ]
          },
          "metadata": {},
          "execution_count": 9
        }
      ]
    },
    {
      "cell_type": "markdown",
      "metadata": {
        "id": "YIU7l9e7NWvn"
      },
      "source": [
        "## Label Support Courses"
      ]
    },
    {
      "cell_type": "code",
      "metadata": {
        "id": "BkTey7YjNWct"
      },
      "source": [
        "support_list=stats.comments.str.find('CRN') != -1\n",
        "insert_support_list = []\n",
        "for x in support_list:\n",
        "  if x == True:\n",
        "   insert_support_list.append('Support')\n",
        "  else: \n",
        "    insert_support_list.append('Clean')\n",
        "stats = stats.assign(support=insert_support_list)"
      ],
      "execution_count": null,
      "outputs": []
    },
    {
      "cell_type": "markdown",
      "metadata": {
        "id": "LCqpn6NPNiG4"
      },
      "source": [
        "## Label Subjects for courses (Math, Eng, CS)"
      ]
    },
    {
      "cell_type": "code",
      "metadata": {
        "id": "-gc2yWB-H7JQ"
      },
      "source": [
        "subject_list=stats.subj_crsnumb\n",
        "insert_subject_list = []\n",
        "for x in subject_list:\n",
        "  insert_subject_list.append(str(x).split(\" \")[0])\n",
        "stats = stats.assign(subject=insert_subject_list)"
      ],
      "execution_count": null,
      "outputs": []
    },
    {
      "cell_type": "markdown",
      "metadata": {
        "id": "tHg7kkWcQnTE"
      },
      "source": [
        "## Label PLC status for courses"
      ]
    },
    {
      "cell_type": "code",
      "metadata": {
        "id": "f5N4ezzZIdX9"
      },
      "source": [
        "PLC_list=stats.comments.str.find('Perimeter Learning Community') != -1\n",
        "insert_PLC_list = []\n",
        "for x in PLC_list:\n",
        "  if x == True:\n",
        "   insert_PLC_list.append('PLC')\n",
        "  else: \n",
        "    insert_PLC_list.append('Non-PLC')\n",
        "stats = stats.assign(PLC = insert_PLC_list)"
      ],
      "execution_count": null,
      "outputs": []
    },
    {
      "cell_type": "markdown",
      "metadata": {
        "id": "-ZS4e_EGAlPN"
      },
      "source": [
        "## load in email addresses"
      ]
    },
    {
      "cell_type": "code",
      "metadata": {
        "id": "hqLE-DViAn8v"
      },
      "source": [
        "email_dict = { '01 Anderson, Ebony':'eanderson21@gsu.edu', '01 Aslam, Mohammad':'maslam@gsu.edu','01 Bagherieh, Said':'sbagherieh@gsu.edu','01 Baptiste, Denise':'dbaptiste@gsu.edu','01 Barzegar, Amir':'abarzegar1@gsu.edu','01 Basta, Nadine':'nbasta@gsu.edu','01 Basta, Alfred':'abasta@gsu.edu','01 Beatty, John':'jbeatty3@gsu.edu','01 Bennekin, Kimberly':'kbennekin@gsu.edu','01 Bennett, Kim':'kbennett32@gsu.edu','01 Bidwell, Carla':'cjames13@gsu.edu','01 Bingi, Srilatha':'sbingi@gsu.edu','01 Box, Cynthia':'cbox@gsu.edu','01 Brinson, Kaija':'kbrinson@gsu.edu','01 Brouillette, Donna':'dbrouillette@gsu.edu','01 Brown, Keisha':'klanier1@gsu.edu','01 Brown, Timothy':'tbrown179@gsu.edu','01 Bush, Gayle':'gbush@gsu.edu','01 Cain, Lynda':'lcain3@gsu.edu','01 Chowdhury, Ashraful':'achowdhury13@gsu.edu','01 Chung, Michelle':'mchung12@gsu.edu','01 Church, Erin':'ecooke@gsu.edu','01 Cohen, Blair':'bcohen5@gsu.edu','01 Coty, Lawrence':'lcoty@gsu.edu','01 Danley, Lynda':'ldanley@gsu.edu','01 Darrisaw, Amos':'adarrisaw@gsu.edu','01 Davidson, Wendy':'wdavidson1@gsu.edu','01 Davis, Sarah':'sdavis190@gsu.edu','01 Deliu, Anca':'adeliu@gsu.edu','01 Dodds, Priscilla':'pdodds1@gsu.edu','01 Du, Hong':'hdu7@gsu.edu','01 Dwan, Wen-Shing':'wdwan@gsu.edu','01 Ekwuocha, Anthonia':'aekwuocha1@gsu.edu','01 Elliott, Robert':'relliott23@gsu.edu','01 Fitzgerald, Susan':'sfitzgerald@gsu.edu','01 Flemons, Stanton':'sflemons@gsu.edu','01 Frazier, Lauren':'lfrazier8@gsu.edu','01 French, Chandra':'cfrench@gsu.edu','01 Gaines, Thomas':'tgaines13@gsu.edu','01 Garofalo, Stephanie':'sgarofalo@gsu.edu','01 Girmay, David':'dgirmay1@gsu.edu','01 Goins, Chet':'cgoins4@gsu.edu','01 Griffin, William':'bgriffin12@gsu.edu','01 Gu, Lei':'lgu2@gsu.edu','01 Harper, Valerie':'vharper@gsu.edu','01 Heft, Jill':'jheft@gsu.edu','01 Hendricks, Andrea':'ahendricks@gsu.edu','01 Hendricks, Todd':'thendricks@gsu.edu','01 Henry, Vertilee':'vhenry2@gsu.edu','01 Honkan, Anant':'ahonkan@gsu.edu','01 Hunter, Rodney':'rhunter15@gsu.edu','01 Hutchinson, Kenneth':'khutchinson4@gsu.edu','01 Jackson, Bernice':'bjackson77@gsu.edu','01 Jackson, Thomas':'tjackson101@gsu.edu','01 Jayne, Patricia':'pjayne@gsu.edu','01 Johnson, Eric':'ejohnson106@gsu.edu','01 Jordan, Laurn':'ljordan8@gsu.edu','01 Kar, Avijit':'akar1@gsu.edu','01 Keith, Susan':'skeith@gsu.edu','01 Kim, Andrew':'dkim112@gsu.edu','01 King, John':'jking22@gsu.edu','01 Kumaresan, Natarajan':'nkumaresan@gsu.edu','01 La Corte, Julie':'jlacorte@gsu.edu','01 LAMAR, TOSHA':'tlamar2@gsu.edu','01 Lanes, Sasha':'slanes@gsu.edu','01 Law, Kouok':'klaw@gsu.edu','01 Lee, Ari':'alee145@gsu.edu','01 Lester, Cynthia':'clester6@gsu.edu','01 Lewis, Charles':'clewis68@gsu.edu','01 Lewkowicz, Marjorie':'mlewkowicz1@gsu.edu','01 Longman, Dihema':'dlongman1@gsu.edu','01 Lu, Albert':'alu4@gsu.edu','01 Malhotra, Charoo':'cmalhotra@gsu.edu','01 Manole, Rusandica':'rmanole@gsu.edu','01 Marshall, Johnathan':'jmarshall54@gsu.edu','01 McBride, Christopher':'rettmcbride@gsu.edu','01 Mcginnis, Diana':'dmcginnis@gsu.edu','01 Miller, Valerie':'vmiller@gsu.edu','01 Moradkhani Roshandeh, Arash':'amoradkhani@gsu.edu','01 Muiny, Somaya':'smuiny1@gsu.edu','01 Nguyen-Quan, Michael':'mnguyenquan1@gsu.edu','01 Ori, Peter':'pori@gsu.edu','01 Paschal, Sarah':'spaschal@gsu.edu','01 Patterson, Nikita':'npatterson@gsu.edu','01 Pendarvis, Denise':'dpendarvis@gsu.edu','01 Pierce, Alice':'apierce10@gsu.edu','01 Powell, Virginia':'gpowell8@gsu.edu','01 Powell, Adeya':'apowell12@gsu.edu','01 Pruvenok, Robert':'rpruvenok@gsu.edu','01 Puscas, Richard':'rpuscas@gsu.edu','01 Reba, Marilyn':'mreba@gsu.edu','01 Reddivari, Sahithya':'sreddivari@gsu.edu','01 Rhymes, Marcus':'mrhymes@gsu.edu','01 Rouhani, Behnaz':'brouhani@gsu.edu','01 Rusodimos, Iason':'irusodimos@gsu.edu','01 Sabree, Haazim':'hsabree@gsu.edu','01 Sadhasivan, Mohan':'msadhasivan@gsu.edu','01 Senatle, Pitso':'psenatle@gsu.edu','01 Service, Angela':'aservice@gsu.edu','01 Sheikh Ansari, Forough':'fansari@gsu.edu','01 Skipper, Tia':'tskipper@gsu.edu','01 Tapp, Marvelyn':'mtapp@gsu.edu','01 Thakkar, Chintan':'cthakkar@gsu.edu','01 Thomas, Jo':'jthomas184@gsu.edu','01 Tichenor, Scott':'stichenor@gsu.edu','01 Timsina, Tirtha':'ttimsina@gsu.edu','01 Walls, Barrett':'bwalls@gsu.edu','01 Weber, John':'jweber13@gsu.edu','01 Weltlich, Sharon':'sweltlich@gsu.edu','01 Whaley, Emily':'ewhaley@gsu.edu','01 Williams, Allison':'awilliams89@gsu.edu','01 Williams, James':'jwilliams345@gsu.edu','01 Wilson, Joanna':'jwilson133@gsu.edu','01 Winking, Matthew':'mwinking@gsu.edu','01 Yeomans, Kevin':'kyeomans@gsu.edu','01 Zrolka, Patricia':'pzrolka@gsu.edu','01 Muralidhar, Deepa':'dmuralidhar1@gsu.edu','01 Kim, Dongjin':'dkim112@gsu.edu','01 Goins, Chester':'cgoins4@gsu.edu'\n",
        "              ,'01 Jones, Paul':'pjones34@gsu.edu','01 China, Ervin':'echina1@gsu.edu', '01 Staff': '<none>', '01 Oguntebi, Zacchaeus':'zoguntebi1@gsu.edu','01 Gaines, Gene' : 'tgaines13@gsu.edu'\n",
        "              ,'01 Betanga, Solomon':'sbetanga1@gsu.edu','01 Waymack, Matthew':'mwaymack@gsu.edu'}\n",
        "\n"
      ],
      "execution_count": null,
      "outputs": []
    },
    {
      "cell_type": "markdown",
      "metadata": {
        "id": "bxnPR1_uAx-O"
      },
      "source": [
        "### Assign Email Addresses"
      ]
    },
    {
      "cell_type": "code",
      "metadata": {
        "id": "oh0OFoaOA3Jg"
      },
      "source": [
        "email_list=stats.instructor\n",
        "insert_email_list = []\n",
        "for x in email_list:\n",
        "    insert_email_list.append(email_dict[x])\n",
        "stats = stats.assign(email = insert_email_list)"
      ],
      "execution_count": null,
      "outputs": []
    },
    {
      "cell_type": "code",
      "metadata": {
        "id": "3pASc0J5I2gw"
      },
      "source": [
        "data_columns = ['crn', 'dept','subject','xlst','subj_crsnumb',\n",
        "       'crse_title', 'seq_numb', 'campus',\n",
        "       'days', 'start_time', 'end_time', 'loc', 'instructor', 'email',\n",
        "       'spriden_id', 'fcst_code', 'enroll', 'max_enrl', 'xlst_enrl',\n",
        "       'xlst_max_enrl','PLC','support' ,'comments']"
      ],
      "execution_count": null,
      "outputs": []
    },
    {
      "cell_type": "code",
      "metadata": {
        "id": "5rq6XabN248o"
      },
      "source": [
        "enrollment =stats[data_columns]\n"
      ],
      "execution_count": null,
      "outputs": []
    },
    {
      "cell_type": "markdown",
      "metadata": {
        "id": "92RfRfiMbNU9"
      },
      "source": [
        "# Create Excel export object"
      ]
    },
    {
      "cell_type": "markdown",
      "metadata": {
        "id": "4KoXMs_AoN0D"
      },
      "source": [
        "#### Create filename for report with timestamp"
      ]
    },
    {
      "cell_type": "code",
      "metadata": {
        "colab": {
          "base_uri": "https://localhost:8080/"
        },
        "id": "YmG7XT2Ej6Oj",
        "outputId": "5f2b9d6e-8dd2-42e0-c226-64cc58f9dd74"
      },
      "source": [
        "eastern = timezone('US/Eastern')\n",
        "dateTimeObj = datetime.now(eastern)\n",
        "datestamp = dateTimeObj.strftime(\"%Y%b%d_%I_%M%p\")\n",
        "report_name = \"List_of_Instructors_by_Course_\"+ datestamp + \".xlsx\"\n",
        "print(report_name)"
      ],
      "execution_count": null,
      "outputs": [
        {
          "output_type": "stream",
          "name": "stdout",
          "text": [
            "List_of_Instructors_by_Course_2021Sep01_08_12AM.xlsx\n"
          ]
        }
      ]
    },
    {
      "cell_type": "code",
      "metadata": {
        "id": "cPl-7YasbNMj"
      },
      "source": [
        "writer = pd.ExcelWriter(report_name)"
      ],
      "execution_count": null,
      "outputs": []
    },
    {
      "cell_type": "code",
      "metadata": {
        "id": "qxnUsdx0bNCp"
      },
      "source": [
        "# book object to format\n",
        "workbook = writer.book  "
      ],
      "execution_count": null,
      "outputs": []
    },
    {
      "cell_type": "markdown",
      "metadata": {
        "id": "hhAd0NBX7_0o"
      },
      "source": [
        "### List of Instructors by Campus"
      ]
    },
    {
      "cell_type": "code",
      "metadata": {
        "id": "LhZXXj957_p5"
      },
      "source": [
        "discipline_filter = enrollment['subject']=='MATH'\n",
        "Instructor_lists = enrollment[discipline_filter]#.sort_values('subj_crsnumb')\n",
        "temp_list = []\n",
        "start_col=0\n",
        "start_row=0\n",
        "sheetname = 'By Campus'\n",
        "for campus in campuses:\n",
        "  filter = Instructor_lists['campus']==campus\n",
        "  temp_list = Instructor_lists[filter][['campus','fcst_code','instructor','email']].drop_duplicates().sort_values('fcst_code')\n",
        "  temp_list.drop_duplicates().to_excel(writer,sheetname,startrow=start_row,startcol=start_col,index=False)\n",
        "  start_col = start_col+5"
      ],
      "execution_count": null,
      "outputs": []
    },
    {
      "cell_type": "markdown",
      "metadata": {
        "id": "utFhGQSkamjT"
      },
      "source": [
        "## Create List of instructors per course per campus"
      ]
    },
    {
      "cell_type": "code",
      "metadata": {
        "id": "zvBVOJ_AAY0Y"
      },
      "source": [
        " #dataframe.to_excel(writer, sheet_name=sheet, startrow=0 , startcol=0) "
      ],
      "execution_count": null,
      "outputs": []
    },
    {
      "cell_type": "code",
      "metadata": {
        "id": "z2P8E5pp1pkZ",
        "colab": {
          "base_uri": "https://localhost:8080/"
        },
        "outputId": "26945d7c-e4e1-407d-a4b9-dfebb6f9eae8"
      },
      "source": [
        "discipline_filter = enrollment['subject']=='MATH'\n",
        "Instructor_lists = enrollment[discipline_filter]#.sort_values('subj_crsnumb')\n",
        "temp_list = []\n",
        "for campus in campuses:\n",
        "  start_col=0\n",
        "  start_row=0\n",
        "  campus_filter = Instructor_lists['campus']==campus\n",
        "  subjects_list_df = Instructor_lists[campus_filter]\n",
        "  subjects_list = []\n",
        "  subjects_list = list(subjects_list_df['subj_crsnumb'].drop_duplicates())\n",
        "  sheetname = campuses_dict[campus]\n",
        "  print(campus)\n",
        "  for subject in subjects_list:\n",
        "    filter = (Instructor_lists['subj_crsnumb']==subject) & (Instructor_lists['campus']==campus)\n",
        "    temp_list = Instructor_lists[filter][['subj_crsnumb','instructor','email']].drop_duplicates()\n",
        "    temp_list.drop_duplicates().to_excel(writer,sheetname,startrow=start_row,startcol=start_col,index=False)\n",
        "    start_col = start_col+5\n",
        "    if ((start_col%25)==0 and (start_col!=0)):\n",
        "      start_row = start_row + 15\n",
        "      start_col = 0\n",
        "\n"
      ],
      "execution_count": null,
      "outputs": [
        {
          "output_type": "stream",
          "name": "stdout",
          "text": [
            "PA\n",
            "PF\n",
            "PS\n",
            "PC\n",
            "PE\n",
            "PN\n"
          ]
        }
      ]
    },
    {
      "cell_type": "code",
      "metadata": {
        "id": "nbr2WRhj1Xjt"
      },
      "source": [
        ""
      ],
      "execution_count": null,
      "outputs": []
    },
    {
      "cell_type": "markdown",
      "metadata": {
        "id": "2NFyb6W1262i"
      },
      "source": [
        "### Instructor lists by course"
      ]
    },
    {
      "cell_type": "code",
      "metadata": {
        "id": "k6grI_HH26mF"
      },
      "source": [
        ""
      ],
      "execution_count": null,
      "outputs": []
    },
    {
      "cell_type": "code",
      "metadata": {
        "id": "Tr3VGMtr1ZEi"
      },
      "source": [
        "discipline_filter = enrollment['subject']=='MATH'\n",
        "Instructor_lists = enrollment[discipline_filter]#.sort_values('subj_crsnumb')\n",
        "temp_list = []\n",
        "subjects_list_df = Instructor_lists[campus_filter]\n",
        "subjects_list = []\n",
        "subjects_list = list(subjects_list_df['subj_crsnumb'].drop_duplicates())\n",
        "for subject in subjects_list:\n",
        "  sheetname = subject\n",
        "  filter = (Instructor_lists['subj_crsnumb']==subject)\n",
        "  temp_list = Instructor_lists[filter][['subj_crsnumb','instructor','email']].drop_duplicates()\n",
        "  temp_list.drop_duplicates().to_excel(writer,sheetname,index=False)\n",
        "  "
      ],
      "execution_count": null,
      "outputs": []
    },
    {
      "cell_type": "code",
      "metadata": {
        "id": "NWAzucdS7NfF"
      },
      "source": [
        "writer.save()"
      ],
      "execution_count": null,
      "outputs": []
    }
  ]
}