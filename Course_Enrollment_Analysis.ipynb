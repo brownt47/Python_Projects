{
  "nbformat": 4,
  "nbformat_minor": 0,
  "metadata": {
    "kernelspec": {
      "display_name": "Python 3",
      "language": "python",
      "name": "python3"
    },
    "language_info": {
      "codemirror_mode": {
        "name": "ipython",
        "version": 3
      },
      "file_extension": ".py",
      "mimetype": "text/x-python",
      "name": "python",
      "nbconvert_exporter": "python",
      "pygments_lexer": "ipython3",
      "version": "3.7.4"
    },
    "colab": {
      "name": "Excel Export of Course Enrollment Analysis.ipynb",
      "provenance": [],
      "collapsed_sections": [],
      "include_colab_link": true
    }
  },
  "cells": [
    {
      "cell_type": "markdown",
      "metadata": {
        "id": "view-in-github",
        "colab_type": "text"
      },
      "source": [
        "<a href=\"https://colab.research.google.com/github/brownt47/Python_Projects/blob/main/Course_Enrollment_Analysis.ipynb\" target=\"_parent\"><img src=\"https://colab.research.google.com/assets/colab-badge.svg\" alt=\"Open In Colab\"/></a>"
      ]
    },
    {
      "cell_type": "markdown",
      "metadata": {
        "id": "nIE2NI3WnmSB"
      },
      "source": [
        "### Import packages and libraries"
      ]
    },
    {
      "cell_type": "code",
      "metadata": {
        "id": "HAGJqQJ5nsjh"
      },
      "source": [
        "#pip install xlsxwriter\n",
        "#import xlsxwriter"
      ],
      "execution_count": null,
      "outputs": []
    },
    {
      "cell_type": "code",
      "metadata": {
        "id": "b1fopuannr3y"
      },
      "source": [
        "import pandas as pd\n",
        "import numpy as np\n",
        "import os\n",
        "from datetime import datetime\n",
        "from pytz import timezone"
      ],
      "execution_count": null,
      "outputs": []
    },
    {
      "cell_type": "markdown",
      "metadata": {
        "id": "XvUGdI4XneE6"
      },
      "source": [
        "# PRE_PROCESSING"
      ]
    },
    {
      "cell_type": "markdown",
      "metadata": {
        "id": "M3HLyfIN248U"
      },
      "source": [
        "### IMPORT THE COURSE SECTION DATA"
      ]
    },
    {
      "cell_type": "code",
      "metadata": {
        "id": "v7jKWQhx248b"
      },
      "source": [
        "filename = 'CV_Class_Schedule_By_Department_S200106-2020-07-16_20210826_091257.csv'"
      ],
      "execution_count": null,
      "outputs": []
    },
    {
      "cell_type": "code",
      "metadata": {
        "id": "RlEe_0Jh248c"
      },
      "source": [
        "#loc = \"C:\\\\Users\\\\User\\\\OneDrive - Georgia State University\\\\!!!Online Math Department\\\\Schedules for Online\\\\Fall 2021\"\n",
        "#loc = loc + \"\\\\\" + filename"
      ],
      "execution_count": null,
      "outputs": []
    },
    {
      "cell_type": "code",
      "metadata": {
        "id": "vmBsdvMK248g"
      },
      "source": [
        "stats = pd.read_csv(filename)"
      ],
      "execution_count": null,
      "outputs": []
    },
    {
      "cell_type": "markdown",
      "metadata": {
        "id": "4SXaSp3x248i"
      },
      "source": [
        "## Change Column Names and remove unwanted columns"
      ]
    },
    {
      "cell_type": "code",
      "metadata": {
        "id": "aTPb44Br248k"
      },
      "source": [
        "stats.columns = [x.lower() for x in stats.columns]\n",
        "stats.columns = ['term', 'coll', 'crn', 'dept', 'sapr', 'xlst', 'ptrm', 'subj_crsnumb',\n",
        "       'crse_title', 'seq_numb', 'schd', 'insm_code', 'crse_delvry', 'campus',\n",
        "       'sess', 'credit_hr_low', 'credit_hr_high', 'credit_hrs', 'sest', 'ses#',\n",
        "       'days', 'start_time', 'end_time', 'schd.1', 'loc', 'instructor',\n",
        "       'spriden_id', 'fcst_code', 'enroll', 'max_enrl', 'xlst_enrl',\n",
        "       'xlst_max_enrl', 'crse_status', 'comments', 'fees', 'detail code',\n",
        "       'sec', 'ssbsect_voice_avail']"
      ],
      "execution_count": null,
      "outputs": []
    },
    {
      "cell_type": "markdown",
      "metadata": {
        "id": "YIU7l9e7NWvn"
      },
      "source": [
        "## Label Support Courses"
      ]
    },
    {
      "cell_type": "code",
      "metadata": {
        "id": "BkTey7YjNWct"
      },
      "source": [
        "support_list=(stats.comments.str.find('CRN') != -1)\n",
        "insert_support_list = []\n",
        "for x in support_list:\n",
        "  if x == True:\n",
        "   insert_support_list.append('Support')\n",
        "  else: \n",
        "    insert_support_list.append('Clean')\n",
        "stats = stats.assign(support=insert_support_list)"
      ],
      "execution_count": null,
      "outputs": []
    },
    {
      "cell_type": "markdown",
      "metadata": {
        "id": "LCqpn6NPNiG4"
      },
      "source": [
        "## Label Subjects for courses (Math, Eng, CS)"
      ]
    },
    {
      "cell_type": "code",
      "metadata": {
        "id": "-gc2yWB-H7JQ"
      },
      "source": [
        "subject_list=stats.subj_crsnumb\n",
        "insert_subject_list = []\n",
        "for x in subject_list:\n",
        "  insert_subject_list.append(str(x).split(\" \")[0])\n",
        "stats = stats.assign(subject=insert_subject_list)"
      ],
      "execution_count": null,
      "outputs": []
    },
    {
      "cell_type": "markdown",
      "metadata": {
        "id": "tHg7kkWcQnTE"
      },
      "source": [
        "## Label PLC status for courses"
      ]
    },
    {
      "cell_type": "code",
      "metadata": {
        "id": "f5N4ezzZIdX9"
      },
      "source": [
        "PLC_list=stats.comments.str.find('Perimeter Learning Community') != -1\n",
        "insert_PLC_list = []\n",
        "for x in PLC_list:\n",
        "  if x == True:\n",
        "   insert_PLC_list.append('PLC')\n",
        "  else: \n",
        "    insert_PLC_list.append('Non-PLC')\n",
        "stats = stats.assign(PLC = insert_PLC_list)"
      ],
      "execution_count": null,
      "outputs": []
    },
    {
      "cell_type": "code",
      "metadata": {
        "id": "3pASc0J5I2gw"
      },
      "source": [
        "data_columns = ['crn', 'dept','subject','xlst','subj_crsnumb',\n",
        "       'crse_title', 'seq_numb', 'campus',\n",
        "       'days', 'start_time', 'end_time', 'loc', 'instructor',\n",
        "       'spriden_id', 'fcst_code', 'enroll', 'max_enrl', 'xlst_enrl',\n",
        "       'xlst_max_enrl','PLC','support' ,'comments']"
      ],
      "execution_count": null,
      "outputs": []
    },
    {
      "cell_type": "code",
      "metadata": {
        "id": "5rq6XabN248o"
      },
      "source": [
        "enrollment =stats[data_columns]\n"
      ],
      "execution_count": null,
      "outputs": []
    },
    {
      "cell_type": "markdown",
      "metadata": {
        "id": "GHWKY7AU248q"
      },
      "source": [
        "### Create \"seats_left\" column"
      ]
    },
    {
      "cell_type": "code",
      "metadata": {
        "id": "9mPtWWnS9-zk"
      },
      "source": [
        "enrollment = enrollment.assign(seats_left=enrollment['max_enrl'] - enrollment['enroll'])"
      ],
      "execution_count": null,
      "outputs": []
    },
    {
      "cell_type": "code",
      "metadata": {
        "colab": {
          "base_uri": "https://localhost:8080/"
        },
        "id": "JZLKylOl-wgz",
        "outputId": "52803438-26d0-4590-b774-5a7e3daabe64"
      },
      "source": [
        "enrollment.columns"
      ],
      "execution_count": null,
      "outputs": [
        {
          "output_type": "execute_result",
          "data": {
            "text/plain": [
              "Index(['crn', 'dept', 'subject', 'xlst', 'subj_crsnumb', 'crse_title',\n",
              "       'seq_numb', 'campus', 'days', 'start_time', 'end_time', 'loc',\n",
              "       'instructor', 'spriden_id', 'fcst_code', 'enroll', 'max_enrl',\n",
              "       'xlst_enrl', 'xlst_max_enrl', 'PLC', 'support', 'comments',\n",
              "       'seats_left'],\n",
              "      dtype='object')"
            ]
          },
          "metadata": {},
          "execution_count": 32
        }
      ]
    },
    {
      "cell_type": "markdown",
      "metadata": {
        "id": "cgIxvce1aXfH"
      },
      "source": [
        "### List of campuses"
      ]
    },
    {
      "cell_type": "code",
      "metadata": {
        "id": "VD7ehFggaZvh"
      },
      "source": [
        "campuses = ['PA','PF','PS','PC','PE', 'PN']"
      ],
      "execution_count": null,
      "outputs": []
    },
    {
      "cell_type": "markdown",
      "metadata": {
        "id": "5vMytmPmEbBk"
      },
      "source": [
        "# Summary Open Seats Count"
      ]
    },
    {
      "cell_type": "code",
      "metadata": {
        "colab": {
          "base_uri": "https://localhost:8080/"
        },
        "id": "lKqyrQyb248s",
        "outputId": "7bbf25ff-f064-46b0-ac61-333768c114ae"
      },
      "source": [
        "filter = (enrollment['campus']=='PC') & (enrollment['subject']=='MATH')\n",
        "#filter = (enrollment['subject']=='MATH')\n",
        "#course_sums = enrollment[filter].groupby(['subject','campus','subj_crsnumb']).sum()\n",
        "course_sums = enrollment[filter].groupby(['PLC','subject','campus','support','subj_crsnumb']).sum()\n",
        "print(course_sums.columns)\n",
        "course_sums['seats_left']"
      ],
      "execution_count": null,
      "outputs": [
        {
          "output_type": "stream",
          "text": [
            "Index(['crn', 'dept', 'seq_numb', 'end_time', 'spriden_id', 'enroll',\n",
            "       'max_enrl', 'xlst_enrl', 'xlst_max_enrl', 'seats_left'],\n",
            "      dtype='object')\n"
          ],
          "name": "stdout"
        },
        {
          "output_type": "execute_result",
          "data": {
            "text/plain": [
              "PLC      subject  campus  support  subj_crsnumb\n",
              "Non-PLC  MATH     PC      Clean    MATH 1001       63\n",
              "                                   MATH 1111       35\n",
              "                                   MATH 1113       46\n",
              "                                   MATH 1401       81\n",
              "                                   MATH 2008       23\n",
              "                                   MATH 2211       51\n",
              "                                   MATH 2212       16\n",
              "                                   MATH 2551       15\n",
              "                                   MATH 2652       19\n",
              "                          Support  MATH 0996        0\n",
              "                                   MATH 0997       12\n",
              "                                   MATH 0999        1\n",
              "                                   MATH 1001       12\n",
              "                                   MATH 1111       13\n",
              "                                   MATH 1401        0\n",
              "PLC      MATH     PC      Clean    MATH 1001        0\n",
              "                                   MATH 1401        3\n",
              "                          Support  MATH 0996        0\n",
              "                                   MATH 0997        1\n",
              "                                   MATH 1001       15\n",
              "                                   MATH 1401       11\n",
              "Name: seats_left, dtype: int64"
            ]
          },
          "metadata": {},
          "execution_count": 34
        }
      ]
    },
    {
      "cell_type": "markdown",
      "metadata": {
        "id": "92RfRfiMbNU9"
      },
      "source": [
        "# Create Excel export object"
      ]
    },
    {
      "cell_type": "markdown",
      "metadata": {
        "id": "4KoXMs_AoN0D"
      },
      "source": [
        "#### Create filename for report with timestamp"
      ]
    },
    {
      "cell_type": "code",
      "metadata": {
        "colab": {
          "base_uri": "https://localhost:8080/"
        },
        "id": "YmG7XT2Ej6Oj",
        "outputId": "d64da779-eca4-4bf1-d28c-e37f2db3bf56"
      },
      "source": [
        "eastern = timezone('US/Eastern')\n",
        "dateTimeObj = datetime.now(eastern)\n",
        "datestamp = dateTimeObj.strftime(\"%Y%b%d_%I_%M%p\")\n",
        "report_name = \"Empty_Seat_Report_\" + datestamp + \".xlsx\"\n",
        "print(report_name)"
      ],
      "execution_count": null,
      "outputs": [
        {
          "output_type": "stream",
          "text": [
            "Empty_Seat_Report_2021Aug26_09_13AM.xlsx\n"
          ],
          "name": "stdout"
        }
      ]
    },
    {
      "cell_type": "code",
      "metadata": {
        "id": "cPl-7YasbNMj"
      },
      "source": [
        "writer = pd.ExcelWriter(report_name)"
      ],
      "execution_count": null,
      "outputs": []
    },
    {
      "cell_type": "code",
      "metadata": {
        "id": "qxnUsdx0bNCp"
      },
      "source": [
        "# book object to format\n",
        "workbook = writer.book  "
      ],
      "execution_count": null,
      "outputs": []
    },
    {
      "cell_type": "markdown",
      "metadata": {
        "id": "utFhGQSkamjT"
      },
      "source": [
        "## Create Sheets for each campus"
      ]
    },
    {
      "cell_type": "code",
      "metadata": {
        "id": "Il0ReJRgamZb",
        "colab": {
          "base_uri": "https://localhost:8080/",
          "height": 35
        },
        "outputId": "19dd0ebd-af38-4133-d59a-fee0a24cf417"
      },
      "source": [
        "for campus in campuses:\n",
        "  filter = (enrollment['campus']==campus) & (enrollment['subject']=='MATH')\n",
        "  course_sums = enrollment[filter].groupby(['PLC','subject','campus','support','subj_crsnumb']).sum()\n",
        "  course_sums['seats_left'].to_excel(writer, campus)\n",
        "  worksheet = writer.sheets[campus]\n",
        "'''  worksheet.set_column('A:D', 12)\n",
        "  worksheet.set_column('E:E', 20)   #works with xlsrWriter package\n",
        "  worksheet.set_column('F:F', 12)'''"
      ],
      "execution_count": null,
      "outputs": [
        {
          "output_type": "execute_result",
          "data": {
            "application/vnd.google.colaboratory.intrinsic+json": {
              "type": "string"
            },
            "text/plain": [
              "\"  worksheet.set_column('A:D', 12)\\n  worksheet.set_column('E:E', 20)   #works with xlsrWriter package\\n  worksheet.set_column('F:F', 12)\""
            ]
          },
          "metadata": {},
          "execution_count": 38
        }
      ]
    },
    {
      "cell_type": "markdown",
      "metadata": {
        "id": "joSWGQoyZqrf"
      },
      "source": [
        "## Export to Excel file"
      ]
    },
    {
      "cell_type": "code",
      "metadata": {
        "id": "rmvGUqGWZqWX"
      },
      "source": [
        "# save the excel\n",
        "writer.save()"
      ],
      "execution_count": null,
      "outputs": []
    },
    {
      "cell_type": "markdown",
      "metadata": {
        "id": "LGxfr3ydET4O"
      },
      "source": [
        "# Summary Open Seats Count"
      ]
    },
    {
      "cell_type": "code",
      "metadata": {
        "id": "9QZhel17FGQe",
        "colab": {
          "base_uri": "https://localhost:8080/",
          "height": 68
        },
        "outputId": "a651fde7-7e7c-4f37-9120-3e429e34e668"
      },
      "source": [
        "'''#campus_filter = enrollment['campus']=='PF'\n",
        "#campus_filter = True   #for all campuses\n",
        "#campus_filter\n",
        "#course_filter = enrollment['subj_crsnumb']=='0996'\n",
        "#course_filter = True   \n",
        "# for all courses\n",
        "#filter = campus_filter & course_filter\n",
        "filter = True\n",
        "Instructor_lists = enrollment.sort_values('subj_crsnumb')\n",
        "#Instructor_lists = enrollment[filter].sort_values('subj_crsnumb')\n",
        "Instructor_lists[['subj_crsnumb','instructor']].drop_duplicates()'''"
      ],
      "execution_count": null,
      "outputs": [
        {
          "output_type": "execute_result",
          "data": {
            "application/vnd.google.colaboratory.intrinsic+json": {
              "type": "string"
            },
            "text/plain": [
              "\"#campus_filter = enrollment['campus']=='PF'\\n#campus_filter = True   #for all campuses\\n#campus_filter\\n#course_filter = enrollment['subj_crsnumb']=='0996'\\n#course_filter = True   \\n# for all courses\\n#filter = campus_filter & course_filter\\nfilter = True\\nInstructor_lists = enrollment.sort_values('subj_crsnumb')\\n#Instructor_lists = enrollment[filter].sort_values('subj_crsnumb')\\nInstructor_lists[['subj_crsnumb','instructor']].drop_duplicates()\""
            ]
          },
          "metadata": {},
          "execution_count": 40
        }
      ]
    },
    {
      "cell_type": "code",
      "metadata": {
        "id": "Ak2XcWoMTtpk"
      },
      "source": [
        ""
      ],
      "execution_count": null,
      "outputs": []
    },
    {
      "cell_type": "code",
      "metadata": {
        "id": "i4NX1lSfsNHt",
        "colab": {
          "base_uri": "https://localhost:8080/",
          "height": 35
        },
        "outputId": "dc1ac2a6-d235-44a2-8003-c20440fc622d"
      },
      "source": [
        "'''\n",
        "#filter = (enrollment['campus']=='PA') & (enrollment['subject']=='MATH')\n",
        "#low_enrollment_crns = enrollment[filter]\n",
        "#xlist_low_enrollment'''"
      ],
      "execution_count": null,
      "outputs": [
        {
          "output_type": "execute_result",
          "data": {
            "application/vnd.google.colaboratory.intrinsic+json": {
              "type": "string"
            },
            "text/plain": [
              "\"\\n#filter = (enrollment['campus']=='PA') & (enrollment['subject']=='MATH')\\n#low_enrollment_crns = enrollment[filter]\\n#xlist_low_enrollment\""
            ]
          },
          "metadata": {},
          "execution_count": 41
        }
      ]
    },
    {
      "cell_type": "code",
      "metadata": {
        "id": "q1Xj6lxHsWAq"
      },
      "source": [
        ""
      ],
      "execution_count": null,
      "outputs": []
    }
  ]
}