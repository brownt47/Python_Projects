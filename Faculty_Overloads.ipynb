{
  "nbformat": 4,
  "nbformat_minor": 0,
  "metadata": {
    "kernelspec": {
      "display_name": "Python 3",
      "language": "python",
      "name": "python3"
    },
    "language_info": {
      "codemirror_mode": {
        "name": "ipython",
        "version": 3
      },
      "file_extension": ".py",
      "mimetype": "text/x-python",
      "name": "python",
      "nbconvert_exporter": "python",
      "pygments_lexer": "ipython3",
      "version": "3.7.4"
    },
    "colab": {
      "name": "Faculty Overloads.ipynb",
      "provenance": [],
      "collapsed_sections": [],
      "include_colab_link": true
    }
  },
  "cells": [
    {
      "cell_type": "markdown",
      "metadata": {
        "id": "view-in-github",
        "colab_type": "text"
      },
      "source": [
        "<a href=\"https://colab.research.google.com/github/brownt47/Python_Projects/blob/main/Faculty_Overloads.ipynb\" target=\"_parent\"><img src=\"https://colab.research.google.com/assets/colab-badge.svg\" alt=\"Open In Colab\"/></a>"
      ]
    },
    {
      "cell_type": "markdown",
      "metadata": {
        "id": "UQ-N_vUTPxDv"
      },
      "source": [
        "# Setup Environment"
      ]
    },
    {
      "cell_type": "code",
      "metadata": {
        "id": "91H5uNR1248X"
      },
      "source": [
        "import pandas as pd\n",
        "import numpy as np\n",
        "import os\n",
        "from datetime import datetime\n",
        "from pytz import timezone"
      ],
      "execution_count": null,
      "outputs": []
    },
    {
      "cell_type": "markdown",
      "metadata": {
        "id": "1wh2dIlP37jd"
      },
      "source": [
        "# DATA CLEANING"
      ]
    },
    {
      "cell_type": "markdown",
      "metadata": {
        "id": "M3HLyfIN248U"
      },
      "source": [
        "#### Import the Course Schedule data"
      ]
    },
    {
      "cell_type": "code",
      "metadata": {
        "id": "v7jKWQhx248b"
      },
      "source": [
        "filename = 'CV_Class_Schedule_By_Department_S200106-2020-07-16_20210830_095625.csv'"
      ],
      "execution_count": null,
      "outputs": []
    },
    {
      "cell_type": "code",
      "metadata": {
        "id": "RlEe_0Jh248c"
      },
      "source": [
        "#loc = \"C:\\\\Users\\\\User\\\\OneDrive - Georgia State University\\\\!!!Online Math Department\\\\Schedules for Online\\\\Fall 2021\"\n",
        "#loc = loc + \"\\\\\" + filename"
      ],
      "execution_count": null,
      "outputs": []
    },
    {
      "cell_type": "code",
      "metadata": {
        "id": "vmBsdvMK248g"
      },
      "source": [
        "stats = pd.read_csv(filename, dtype={'seq_numb':str}, na_values=\"\")"
      ],
      "execution_count": null,
      "outputs": []
    },
    {
      "cell_type": "markdown",
      "metadata": {
        "id": "hBhSqkLiPP7i"
      },
      "source": [
        "#### Campus Code dictionary"
      ]
    },
    {
      "cell_type": "code",
      "metadata": {
        "id": "yPd2g7MGPPn-"
      },
      "source": [
        "campuses = ['PA','PF','PS','PC','PE', 'PN']\n",
        "campuses_dict = {'PA':\"Alpharetta\",'PF':'Online','PS':'Decatur','PC':'Clarkston','PE':'Newton', 'PN':'Dunwoody'}"
      ],
      "execution_count": null,
      "outputs": []
    },
    {
      "cell_type": "markdown",
      "metadata": {
        "id": "4SXaSp3x248i"
      },
      "source": [
        "## Clean and Create Custom Columns"
      ]
    },
    {
      "cell_type": "markdown",
      "metadata": {
        "id": "wwqld5e0RcLR"
      },
      "source": [
        "#### Convert column names to lowercase"
      ]
    },
    {
      "cell_type": "code",
      "metadata": {
        "id": "aTPb44Br248k"
      },
      "source": [
        "stats.columns = [x.lower() for x in stats.columns]\n",
        "stats.columns = ['term', 'coll', 'crn', 'dept', 'sapr', 'xlst', 'ptrm', 'subj_crsnumb',\n",
        "       'crse_title', 'seq_numb', 'schd', 'insm_code', 'crse_delvry', 'campus',\n",
        "       'sess', 'credit_hr_low', 'credit_hr_high', 'credit_hrs', 'sest', 'ses#',\n",
        "       'days', 'start_time', 'end_time', 'schd.1', 'loc', 'instructor',\n",
        "       'spriden_id', 'fcst_code', 'enroll', 'max_enrl', 'xlst_enrl',\n",
        "       'xlst_max_enrl', 'crse_status', 'comments', 'fees', 'detail code',\n",
        "       'sec', 'ssbsect_voice_avail']"
      ],
      "execution_count": null,
      "outputs": []
    },
    {
      "cell_type": "markdown",
      "metadata": {
        "id": "LCqpn6NPNiG4"
      },
      "source": [
        "#### Assign Subject codes for courses (Math, Eng, CS)"
      ]
    },
    {
      "cell_type": "code",
      "metadata": {
        "id": "-gc2yWB-H7JQ"
      },
      "source": [
        "subject_list=stats.subj_crsnumb\n",
        "insert_subject_list = []\n",
        "for x in subject_list:\n",
        "  insert_subject_list.append(str(x).split(\" \")[0])\n",
        "stats = stats.assign(subject=insert_subject_list)"
      ],
      "execution_count": null,
      "outputs": []
    },
    {
      "cell_type": "markdown",
      "metadata": {
        "id": "UD5k4xE6D5DJ"
      },
      "source": [
        "#### Capture a list of all subjects"
      ]
    },
    {
      "cell_type": "code",
      "metadata": {
        "id": "s_pXgJFuDLTU"
      },
      "source": [
        "subject_list = list(stats.subject.unique())"
      ],
      "execution_count": null,
      "outputs": []
    },
    {
      "cell_type": "markdown",
      "metadata": {
        "id": "uJc0kN2s4Xl6"
      },
      "source": [
        "#### Capture Course-Section from subj_csrnumb"
      ]
    },
    {
      "cell_type": "code",
      "metadata": {
        "id": "HDKVDjhV7_H-"
      },
      "source": [
        "stats['course_section'] = stats['subj_crsnumb'].str.split(\" \",1,expand=True)[1]\n",
        "stats['seq_numb'] = stats['seq_numb'].astype('str')\n",
        "stats['seq_numb'] = stats['seq_numb'].str.zfill(3)\n",
        "stats['course_section'] = stats['course_section']+ \"-\" +stats['seq_numb']"
      ],
      "execution_count": null,
      "outputs": []
    },
    {
      "cell_type": "markdown",
      "metadata": {
        "id": "JMh403-4Rpgh"
      },
      "source": [
        "#### Assign Lecturer, Full-Time and Part-Time status for special case faculty"
      ]
    },
    {
      "cell_type": "code",
      "metadata": {
        "id": "KIEr_-LSRoqn"
      },
      "source": [
        "lecturer_list = ['01 LAMAR, TOSHA','01 Malhotra, Charoo','01 Pendarvis, Denise','01 Marshall, Johnathan']\n",
        "for lecturer in lecturer_list:\n",
        "  stats['fcst_code']=np.where((stats['instructor']==lecturer),\n",
        "                              'LC',\n",
        "                              stats['fcst_code'])"
      ],
      "execution_count": null,
      "outputs": []
    },
    {
      "cell_type": "code",
      "metadata": {
        "id": "QQvi-Riet5bP"
      },
      "source": [
        "AD_list = ['01 Yeomans, Kevin']\n",
        "for convert_AD in AD_list:\n",
        "  stats['fcst_code']=np.where((stats['instructor']==convert_AD),\n",
        "                              'FT',\n",
        "                              stats['fcst_code'])"
      ],
      "execution_count": null,
      "outputs": []
    },
    {
      "cell_type": "markdown",
      "metadata": {
        "id": "v-_mq3s9ZmhB"
      },
      "source": [
        "#### Create 'Part of Term' Column"
      ]
    },
    {
      "cell_type": "code",
      "metadata": {
        "id": "5xog5RkFaIgq"
      },
      "source": [
        "stats['part_of_term'] = 'full'"
      ],
      "execution_count": null,
      "outputs": []
    },
    {
      "cell_type": "markdown",
      "metadata": {
        "id": "mj8V4aIze7tN"
      },
      "source": [
        "#### Create WLU with listing of xlisted courses with dropped duplicates\n",
        "> ###### WLU = Work Load Units - xlisted courses shouldn't count in totals and  need to be zero'd out."
      ]
    },
    {
      "cell_type": "code",
      "metadata": {
        "id": "vGeL6Gn5vpJJ"
      },
      "source": [
        "crn_dups = list(stats.duplicated(subset=['xlst'],keep = 'last'))\n",
        "stats = stats.assign(WLU = stats['credit_hr_low']*(crn_dups))"
      ],
      "execution_count": null,
      "outputs": []
    },
    {
      "cell_type": "markdown",
      "metadata": {
        "id": "eDE48ocAa7Zo"
      },
      "source": [
        "# Finding Overloaded Faculty"
      ]
    },
    {
      "cell_type": "markdown",
      "metadata": {
        "id": "b_jpO6_6ECBb"
      },
      "source": [
        "#### Select Columns for reporting"
      ]
    },
    {
      "cell_type": "code",
      "metadata": {
        "id": "3pASc0J5I2gw"
      },
      "source": [
        "data_columns = ['crn','ptrm','subject','xlst','subj_crsnumb',\n",
        "       'campus', 'credit_hr_low',\n",
        "       'instructor', 'fcst_code']"
      ],
      "execution_count": null,
      "outputs": []
    },
    {
      "cell_type": "code",
      "metadata": {
        "id": "5rq6XabN248o"
      },
      "source": [
        "teaching_load =stats[data_columns]\n",
        "new_data_columns = ['crn','total courses','subject','xlst','subj_crsnumb',\n",
        "       'campus', 'credit_hr_low',\n",
        "       'instructor', 'fcst_code']\n",
        "teaching_load.columns = new_data_columns\n"
      ],
      "execution_count": null,
      "outputs": []
    },
    {
      "cell_type": "markdown",
      "metadata": {
        "id": "HsQSdkP4fcFK"
      },
      "source": [
        "## Combine cross-listed courses"
      ]
    },
    {
      "cell_type": "markdown",
      "metadata": {
        "id": "CtV0ue3VEhvC"
      },
      "source": [
        "#### Create separate dataframe for non-cross-listed courses"
      ]
    },
    {
      "cell_type": "code",
      "metadata": {
        "id": "AY37S1ZYgdkW"
      },
      "source": [
        "not_xlisted_courses = teaching_load[teaching_load['xlst'].isnull()]\n",
        "#not_xlisted_courses"
      ],
      "execution_count": null,
      "outputs": []
    },
    {
      "cell_type": "markdown",
      "metadata": {
        "id": "7ae0LAwPEqTH"
      },
      "source": [
        "#### Create separate dataframe collapsing cross-listed courses"
      ]
    },
    {
      "cell_type": "code",
      "metadata": {
        "id": "AiCF92wPfbu6"
      },
      "source": [
        "xlisted_courses = teaching_load[teaching_load['xlst'].notnull()].groupby('xlst').max()"
      ],
      "execution_count": null,
      "outputs": []
    },
    {
      "cell_type": "markdown",
      "metadata": {
        "id": "EmFozvyzE_qZ"
      },
      "source": [
        "#### Union the non-crosslisted courses with collapsed crosslisted courses"
      ]
    },
    {
      "cell_type": "code",
      "metadata": {
        "id": "wDL3hJZdgk1K"
      },
      "source": [
        "courses = pd.concat([not_xlisted_courses , xlisted_courses])"
      ],
      "execution_count": null,
      "outputs": []
    },
    {
      "cell_type": "markdown",
      "metadata": {
        "id": "5vMytmPmEbBk"
      },
      "source": [
        "## Groupby instructor and sum up all courses and credit hours\n"
      ]
    },
    {
      "cell_type": "code",
      "metadata": {
        "id": "lX9fXFYTutma"
      },
      "source": [
        "overload_df=courses\n",
        "Overload_sums= overload_df.groupby(['instructor']).agg(\n",
        "   total_hours=pd.NamedAgg(column=\"credit_hr_low\", aggfunc=\"sum\"), \n",
        "   total_courses = pd.NamedAgg(column = 'total courses', aggfunc = 'sum'),\n",
        "   instructor = pd.NamedAgg(column = 'instructor', aggfunc = 'first'),\n",
        "   fcst_code = pd.NamedAgg(column = 'fcst_code', aggfunc = 'first')\n",
        "   )\n"
      ],
      "execution_count": null,
      "outputs": []
    },
    {
      "cell_type": "markdown",
      "metadata": {
        "id": "kangHrZPHAEY"
      },
      "source": [
        "### Create Overload hours column"
      ]
    },
    {
      "cell_type": "markdown",
      "metadata": {
        "id": "fOjZ_jXi5b6c"
      },
      "source": [
        "###### Remove unstaffed courses"
      ]
    },
    {
      "cell_type": "code",
      "metadata": {
        "id": "mmkJzggYx2jp"
      },
      "source": [
        "staff_filter = Overload_sums['instructor']!='01 Staff'\n",
        "Overload_sums = Overload_sums[staff_filter]\n"
      ],
      "execution_count": null,
      "outputs": []
    },
    {
      "cell_type": "markdown",
      "metadata": {
        "id": "GEqk0gKl5ifP"
      },
      "source": [
        "##### Lecturers are overloaded if they teach at least 6 courses and more than 18 hours in any semester*\n",
        "##### *Senior Lecturers are overloaded if they teach at least 5 courses and more than 15 hours in spring semesters"
      ]
    },
    {
      "cell_type": "code",
      "metadata": {
        "id": "zw1n30_ZfWUB"
      },
      "source": [
        "lecturer_filter = Overload_sums['fcst_code']=='LC'\n",
        "lecturer_df = Overload_sums[lecturer_filter]\n",
        "lecturer_df.assign(fcst_code = 'LC')\n",
        "lecturer_df=lecturer_df.assign(overload_hours = lecturer_df['total_hours']-18)\n",
        "lecturer_df=lecturer_df.assign(overloaded = (lecturer_df['overload_hours']>0) & (lecturer_df['total_courses']>=6))"
      ],
      "execution_count": null,
      "outputs": []
    },
    {
      "cell_type": "markdown",
      "metadata": {
        "id": "66ChOSMq6Ehr"
      },
      "source": [
        "##### Tenure-Track faculty  are overloaded if they teach at least 5 courses and more than 15 hours in fall semesters\n",
        "##### Tenure-Track faculty  are overloaded if they teach at least 4 courses and more than 12 hours in spring semesters"
      ]
    },
    {
      "cell_type": "code",
      "metadata": {
        "id": "FQdTNyvNtVO9"
      },
      "source": [
        "tenure_track_filter = Overload_sums['fcst_code']!='LC'\n",
        "tenure_track_df = Overload_sums[tenure_track_filter]\n",
        "tenure_track_df=tenure_track_df.assign(overload_hours = tenure_track_df['total_hours']-15)\n",
        "tenure_track_df=tenure_track_df.assign(overloaded = (tenure_track_df['overload_hours']>0) & (tenure_track_df['total_courses']>=5))\n"
      ],
      "execution_count": null,
      "outputs": []
    },
    {
      "cell_type": "markdown",
      "metadata": {
        "id": "GDM82JKl6j2m"
      },
      "source": [
        "### Combine results for tenure-track faculty and lecturers"
      ]
    },
    {
      "cell_type": "code",
      "metadata": {
        "id": "tBaqeRu7ud65"
      },
      "source": [
        "Overload_sums = pd.concat([lecturer_df , tenure_track_df])"
      ],
      "execution_count": null,
      "outputs": []
    },
    {
      "cell_type": "markdown",
      "metadata": {
        "id": "DYboZt-oFb1B"
      },
      "source": [
        "### Listing of Overloaded Faculty"
      ]
    },
    {
      "cell_type": "code",
      "metadata": {
        "id": "gBkrnaSoFbMg"
      },
      "source": [
        "\n",
        "Overload_filter = (Overload_sums['overloaded']==True)\n",
        "Overload_sums = Overload_sums[Overload_filter].sort_values(['overload_hours','total_courses','total_hours','fcst_code'],ascending=False)"
      ],
      "execution_count": null,
      "outputs": []
    },
    {
      "cell_type": "code",
      "metadata": {
        "colab": {
          "base_uri": "https://localhost:8080/",
          "height": 654
        },
        "id": "ERGMX2VPrPC3",
        "outputId": "9fd32fae-81c0-4e8e-94f3-3a14fd142b4e"
      },
      "source": [
        "Overload_sums"
      ],
      "execution_count": null,
      "outputs": [
        {
          "output_type": "execute_result",
          "data": {
            "text/html": [
              "<div>\n",
              "<style scoped>\n",
              "    .dataframe tbody tr th:only-of-type {\n",
              "        vertical-align: middle;\n",
              "    }\n",
              "\n",
              "    .dataframe tbody tr th {\n",
              "        vertical-align: top;\n",
              "    }\n",
              "\n",
              "    .dataframe thead th {\n",
              "        text-align: right;\n",
              "    }\n",
              "</style>\n",
              "<table border=\"1\" class=\"dataframe\">\n",
              "  <thead>\n",
              "    <tr style=\"text-align: right;\">\n",
              "      <th></th>\n",
              "      <th>total_hours</th>\n",
              "      <th>total_courses</th>\n",
              "      <th>instructor</th>\n",
              "      <th>fcst_code</th>\n",
              "      <th>overload_hours</th>\n",
              "      <th>overloaded</th>\n",
              "    </tr>\n",
              "    <tr>\n",
              "      <th>instructor</th>\n",
              "      <th></th>\n",
              "      <th></th>\n",
              "      <th></th>\n",
              "      <th></th>\n",
              "      <th></th>\n",
              "      <th></th>\n",
              "    </tr>\n",
              "  </thead>\n",
              "  <tbody>\n",
              "    <tr>\n",
              "      <th>01 Cohen, Blair</th>\n",
              "      <td>20</td>\n",
              "      <td>10</td>\n",
              "      <td>01 Cohen, Blair</td>\n",
              "      <td>FT</td>\n",
              "      <td>5</td>\n",
              "      <td>True</td>\n",
              "    </tr>\n",
              "    <tr>\n",
              "      <th>01 Aslam, Mohammad</th>\n",
              "      <td>19</td>\n",
              "      <td>7</td>\n",
              "      <td>01 Aslam, Mohammad</td>\n",
              "      <td>FT</td>\n",
              "      <td>4</td>\n",
              "      <td>True</td>\n",
              "    </tr>\n",
              "    <tr>\n",
              "      <th>01 Pruvenok, Robert</th>\n",
              "      <td>19</td>\n",
              "      <td>7</td>\n",
              "      <td>01 Pruvenok, Robert</td>\n",
              "      <td>FT</td>\n",
              "      <td>4</td>\n",
              "      <td>True</td>\n",
              "    </tr>\n",
              "    <tr>\n",
              "      <th>01 Pendarvis, Denise</th>\n",
              "      <td>21</td>\n",
              "      <td>8</td>\n",
              "      <td>01 Pendarvis, Denise</td>\n",
              "      <td>LC</td>\n",
              "      <td>3</td>\n",
              "      <td>True</td>\n",
              "    </tr>\n",
              "    <tr>\n",
              "      <th>01 China, Ervin</th>\n",
              "      <td>18</td>\n",
              "      <td>8</td>\n",
              "      <td>01 China, Ervin</td>\n",
              "      <td>FT</td>\n",
              "      <td>3</td>\n",
              "      <td>True</td>\n",
              "    </tr>\n",
              "    <tr>\n",
              "      <th>01 Powell, Virginia</th>\n",
              "      <td>18</td>\n",
              "      <td>7</td>\n",
              "      <td>01 Powell, Virginia</td>\n",
              "      <td>FT</td>\n",
              "      <td>3</td>\n",
              "      <td>True</td>\n",
              "    </tr>\n",
              "    <tr>\n",
              "      <th>01 Bennekin, Kimberly</th>\n",
              "      <td>18</td>\n",
              "      <td>6</td>\n",
              "      <td>01 Bennekin, Kimberly</td>\n",
              "      <td>FT</td>\n",
              "      <td>3</td>\n",
              "      <td>True</td>\n",
              "    </tr>\n",
              "    <tr>\n",
              "      <th>01 Bennett, Kim</th>\n",
              "      <td>18</td>\n",
              "      <td>6</td>\n",
              "      <td>01 Bennett, Kim</td>\n",
              "      <td>FT</td>\n",
              "      <td>3</td>\n",
              "      <td>True</td>\n",
              "    </tr>\n",
              "    <tr>\n",
              "      <th>01 Du, Hong</th>\n",
              "      <td>18</td>\n",
              "      <td>6</td>\n",
              "      <td>01 Du, Hong</td>\n",
              "      <td>FT</td>\n",
              "      <td>3</td>\n",
              "      <td>True</td>\n",
              "    </tr>\n",
              "    <tr>\n",
              "      <th>01 McBride, Christopher</th>\n",
              "      <td>18</td>\n",
              "      <td>6</td>\n",
              "      <td>01 McBride, Christopher</td>\n",
              "      <td>FT</td>\n",
              "      <td>3</td>\n",
              "      <td>True</td>\n",
              "    </tr>\n",
              "    <tr>\n",
              "      <th>01 Hunter, Rodney</th>\n",
              "      <td>18</td>\n",
              "      <td>5</td>\n",
              "      <td>01 Hunter, Rodney</td>\n",
              "      <td>FT</td>\n",
              "      <td>3</td>\n",
              "      <td>True</td>\n",
              "    </tr>\n",
              "    <tr>\n",
              "      <th>01 Service, Angela</th>\n",
              "      <td>18</td>\n",
              "      <td>5</td>\n",
              "      <td>01 Service, Angela</td>\n",
              "      <td>FT</td>\n",
              "      <td>3</td>\n",
              "      <td>True</td>\n",
              "    </tr>\n",
              "    <tr>\n",
              "      <th>01 Sheikh Ansari, Forough</th>\n",
              "      <td>18</td>\n",
              "      <td>5</td>\n",
              "      <td>01 Sheikh Ansari, Forough</td>\n",
              "      <td>FT</td>\n",
              "      <td>3</td>\n",
              "      <td>True</td>\n",
              "    </tr>\n",
              "    <tr>\n",
              "      <th>01 Chung, Michelle</th>\n",
              "      <td>17</td>\n",
              "      <td>7</td>\n",
              "      <td>01 Chung, Michelle</td>\n",
              "      <td>FT</td>\n",
              "      <td>2</td>\n",
              "      <td>True</td>\n",
              "    </tr>\n",
              "    <tr>\n",
              "      <th>01 Bingi, Srilatha</th>\n",
              "      <td>17</td>\n",
              "      <td>5</td>\n",
              "      <td>01 Bingi, Srilatha</td>\n",
              "      <td>FT</td>\n",
              "      <td>2</td>\n",
              "      <td>True</td>\n",
              "    </tr>\n",
              "    <tr>\n",
              "      <th>01 Rouhani, Behnaz</th>\n",
              "      <td>17</td>\n",
              "      <td>5</td>\n",
              "      <td>01 Rouhani, Behnaz</td>\n",
              "      <td>FT</td>\n",
              "      <td>2</td>\n",
              "      <td>True</td>\n",
              "    </tr>\n",
              "    <tr>\n",
              "      <th>01 Chowdhury, Ashraful</th>\n",
              "      <td>16</td>\n",
              "      <td>6</td>\n",
              "      <td>01 Chowdhury, Ashraful</td>\n",
              "      <td>FT</td>\n",
              "      <td>1</td>\n",
              "      <td>True</td>\n",
              "    </tr>\n",
              "    <tr>\n",
              "      <th>01 Tapp, Marvelyn</th>\n",
              "      <td>16</td>\n",
              "      <td>6</td>\n",
              "      <td>01 Tapp, Marvelyn</td>\n",
              "      <td>FT</td>\n",
              "      <td>1</td>\n",
              "      <td>True</td>\n",
              "    </tr>\n",
              "    <tr>\n",
              "      <th>01 Weltlich, Sharon</th>\n",
              "      <td>16</td>\n",
              "      <td>6</td>\n",
              "      <td>01 Weltlich, Sharon</td>\n",
              "      <td>FT</td>\n",
              "      <td>1</td>\n",
              "      <td>True</td>\n",
              "    </tr>\n",
              "  </tbody>\n",
              "</table>\n",
              "</div>"
            ],
            "text/plain": [
              "                           total_hours  ...  overloaded\n",
              "instructor                              ...            \n",
              "01 Cohen, Blair                     20  ...        True\n",
              "01 Aslam, Mohammad                  19  ...        True\n",
              "01 Pruvenok, Robert                 19  ...        True\n",
              "01 Pendarvis, Denise                21  ...        True\n",
              "01 China, Ervin                     18  ...        True\n",
              "01 Powell, Virginia                 18  ...        True\n",
              "01 Bennekin, Kimberly               18  ...        True\n",
              "01 Bennett, Kim                     18  ...        True\n",
              "01 Du, Hong                         18  ...        True\n",
              "01 McBride, Christopher             18  ...        True\n",
              "01 Hunter, Rodney                   18  ...        True\n",
              "01 Service, Angela                  18  ...        True\n",
              "01 Sheikh Ansari, Forough           18  ...        True\n",
              "01 Chung, Michelle                  17  ...        True\n",
              "01 Bingi, Srilatha                  17  ...        True\n",
              "01 Rouhani, Behnaz                  17  ...        True\n",
              "01 Chowdhury, Ashraful              16  ...        True\n",
              "01 Tapp, Marvelyn                   16  ...        True\n",
              "01 Weltlich, Sharon                 16  ...        True\n",
              "\n",
              "[19 rows x 6 columns]"
            ]
          },
          "metadata": {},
          "execution_count": 270
        }
      ]
    },
    {
      "cell_type": "markdown",
      "metadata": {
        "id": "CU8zgSNwFlED"
      },
      "source": [
        "### List of names of overloaded faculty"
      ]
    },
    {
      "cell_type": "code",
      "metadata": {
        "id": "cUfKI3h8wUou"
      },
      "source": [
        "overloaded_faculty = list(Overload_sums['instructor'])"
      ],
      "execution_count": null,
      "outputs": []
    },
    {
      "cell_type": "code",
      "metadata": {
        "colab": {
          "base_uri": "https://localhost:8080/"
        },
        "id": "jJKaq2v_u_yw",
        "outputId": "562492d8-bd06-4193-d98e-1856cdb2bb82"
      },
      "source": [
        "overloaded_faculty"
      ],
      "execution_count": null,
      "outputs": [
        {
          "output_type": "execute_result",
          "data": {
            "text/plain": [
              "['01 Cohen, Blair',\n",
              " '01 Aslam, Mohammad',\n",
              " '01 Pruvenok, Robert',\n",
              " '01 Pendarvis, Denise',\n",
              " '01 China, Ervin',\n",
              " '01 Powell, Virginia',\n",
              " '01 Bennekin, Kimberly',\n",
              " '01 Bennett, Kim',\n",
              " '01 Du, Hong',\n",
              " '01 McBride, Christopher',\n",
              " '01 Hunter, Rodney',\n",
              " '01 Service, Angela',\n",
              " '01 Sheikh Ansari, Forough',\n",
              " '01 Chung, Michelle',\n",
              " '01 Bingi, Srilatha',\n",
              " '01 Rouhani, Behnaz',\n",
              " '01 Chowdhury, Ashraful',\n",
              " '01 Tapp, Marvelyn',\n",
              " '01 Weltlich, Sharon']"
            ]
          },
          "metadata": {},
          "execution_count": 272
        }
      ]
    },
    {
      "cell_type": "code",
      "metadata": {
        "id": "V4gYJHjU64C2"
      },
      "source": [
        "len(overloaded_faculty)"
      ],
      "execution_count": null,
      "outputs": []
    },
    {
      "cell_type": "markdown",
      "metadata": {
        "id": "92RfRfiMbNU9"
      },
      "source": [
        "# Create Excel export object"
      ]
    },
    {
      "cell_type": "markdown",
      "metadata": {
        "id": "4KoXMs_AoN0D"
      },
      "source": [
        "#### Create filename for report with timestamp"
      ]
    },
    {
      "cell_type": "code",
      "metadata": {
        "colab": {
          "base_uri": "https://localhost:8080/"
        },
        "id": "YmG7XT2Ej6Oj",
        "outputId": "6c1baa59-3ae8-40a7-c962-b363a2143311"
      },
      "source": [
        "eastern = timezone('US/Eastern')\n",
        "dateTimeObj = datetime.now(eastern)\n",
        "datestamp = dateTimeObj.strftime(\"%Y%b%d_%I_%M%p\")\n",
        "report_name = \"Faculty_Overloads.xlsx\" #+ datestamp + \".xlsx\"\n",
        "print(report_name)"
      ],
      "execution_count": null,
      "outputs": [
        {
          "output_type": "stream",
          "name": "stdout",
          "text": [
            "Faculty_Overloads.xlsx\n"
          ]
        }
      ]
    },
    {
      "cell_type": "code",
      "metadata": {
        "id": "cPl-7YasbNMj"
      },
      "source": [
        "writer = pd.ExcelWriter(report_name)"
      ],
      "execution_count": null,
      "outputs": []
    },
    {
      "cell_type": "code",
      "metadata": {
        "id": "qxnUsdx0bNCp"
      },
      "source": [
        "# book object to format\n",
        "workbook = writer.book  "
      ],
      "execution_count": null,
      "outputs": []
    },
    {
      "cell_type": "code",
      "metadata": {
        "id": "kJ4Gt6E_s3Tu"
      },
      "source": [
        "sheetname = 'Overloads'\n",
        "Overload_sums.to_excel(writer,sheetname,index=False)"
      ],
      "execution_count": null,
      "outputs": []
    },
    {
      "cell_type": "code",
      "metadata": {
        "id": "vjWueAh6H-n1"
      },
      "source": [
        "overload_courses = stats"
      ],
      "execution_count": null,
      "outputs": []
    },
    {
      "cell_type": "markdown",
      "metadata": {
        "id": "utFhGQSkamjT"
      },
      "source": [
        "## Create Listing of CRNs and other data for Overload Form Report per instructor"
      ]
    },
    {
      "cell_type": "code",
      "metadata": {
        "id": "zvBVOJ_AAY0Y"
      },
      "source": [
        " #dataframe.to_excel(writer, sheet_name=sheet, startrow=0 , startcol=0) "
      ],
      "execution_count": null,
      "outputs": []
    },
    {
      "cell_type": "code",
      "metadata": {
        "id": "z2P8E5pp1pkZ"
      },
      "source": [
        "\n",
        "temp_list = []\n",
        "\n",
        "start_col=0\n",
        "start_row=0\n",
        "sheetname = 'CRN_listings'\n",
        "for faculty in overloaded_faculty:\n",
        "  filter = (overload_courses['instructor']==faculty)\n",
        "  temp_list = overload_courses[filter][['instructor','crn','subject','course_section','credit_hr_low','WLU','start_time','days','part_of_term','enroll','xlst']]\n",
        "  temp_list.to_excel(writer,sheetname,startrow=start_row,startcol=start_col,index=False)\n",
        "  start_col = start_col+15\n",
        "  if ((start_col%30)==0 and (start_col!=0)):\n",
        "    start_row = start_row + 15\n",
        "    start_col = 0"
      ],
      "execution_count": null,
      "outputs": []
    },
    {
      "cell_type": "code",
      "metadata": {
        "id": "NWAzucdS7NfF"
      },
      "source": [
        "writer.save()"
      ],
      "execution_count": null,
      "outputs": []
    },
    {
      "cell_type": "code",
      "metadata": {
        "id": "1VEl8IdQXoxs"
      },
      "source": [
        ""
      ],
      "execution_count": null,
      "outputs": []
    }
  ]
}